{
  "cells": [
    {
      "cell_type": "markdown",
      "id": "fbe3312d-1bc3-4a88-9f0c-b3c4b32e71ef",
      "metadata": {
        "id": "fbe3312d-1bc3-4a88-9f0c-b3c4b32e71ef"
      },
      "source": [
        "<strong>Exercise 2 - Create a markdown cell with the title of the notebook.</strong>"
      ]
    },
    {
      "cell_type": "markdown",
      "id": "c0b7dd50-bacf-4dc0-98a1-6785b57fb181",
      "metadata": {
        "id": "c0b7dd50-bacf-4dc0-98a1-6785b57fb181"
      },
      "source": [
        "<h1>Tools for Data Science</h1>"
      ]
    },
    {
      "cell_type": "markdown",
      "id": "a5b74512-a6ff-4dd2-89cc-d493d3bfd9fe",
      "metadata": {
        "id": "a5b74512-a6ff-4dd2-89cc-d493d3bfd9fe"
      },
      "source": [
        "<strong>Exercise 3 - Create a markdown cell for an introduction. (1 pt)</strong>"
      ]
    },
    {
      "cell_type": "markdown",
      "id": "728d9b1f-1d0b-4eb3-996a-4453c25444b4",
      "metadata": {
        "id": "728d9b1f-1d0b-4eb3-996a-4453c25444b4"
      },
      "source": [
        "<p>This notebook will explain list tools data science.<p>"
      ]
    },
    {
      "cell_type": "markdown",
      "id": "b2b9bcf3-2c0b-48a1-bade-d6c3b8dc774e",
      "metadata": {
        "id": "b2b9bcf3-2c0b-48a1-bade-d6c3b8dc774e"
      },
      "source": [
        "<strong>This notebook have objective list:</strong>\n",
        "<ul>\n",
        "    <li>Populer Languanges for data science use.</li>\n",
        "    <li>Populer library for data science.</li>\n",
        "    <li>List tools for data science.</li>\n",
        "</ul>\n",
        "    "
      ]
    },
    {
      "cell_type": "markdown",
      "id": "6015b630-954a-4096-bfc0-dc28b53a378c",
      "metadata": {
        "id": "6015b630-954a-4096-bfc0-dc28b53a378c"
      },
      "source": [
        "<strong>Exercise 4 - Create a markdown cell to list data science languages. (3 pts)</strong>"
      ]
    },
    {
      "cell_type": "markdown",
      "id": "3c957deb-56d8-43b4-9ab9-7f5efea83c17",
      "metadata": {
        "id": "3c957deb-56d8-43b4-9ab9-7f5efea83c17"
      },
      "source": [
        "popular languages that Data Science:\n",
        "<ol>\n",
        "    <li>Python.</li>\n",
        "    <li>R.</li>\n",
        "    <li>SQL.</li>\n",
        "</ol>\n"
      ]
    },
    {
      "cell_type": "markdown",
      "id": "2e054783-ae15-402a-8391-6fbb81ec784a",
      "metadata": {
        "id": "2e054783-ae15-402a-8391-6fbb81ec784a"
      },
      "source": [
        "<strong>Exercise 5 - Create a markdown cell to list data science libraries. (3 pts)</strong>"
      ]
    },
    {
      "cell_type": "markdown",
      "id": "5c211684-5f77-4c28-bd23-590a3ab0b368",
      "metadata": {
        "id": "5c211684-5f77-4c28-bd23-590a3ab0b368"
      },
      "source": [
        "List libraries used by Data Science:\n",
        "<ol>\n",
        "    <li>TensorFlow.</li>\n",
        "    <li>NumPy.</li>\n",
        "    <li>SciPy.</li>\n",
        "    <li>Pandas.</li>\n",
        "    <li>Matplotlib.</li>\n",
        "    <li>Keras.</li>\n",
        "    <li>SciKit-Learn.</li>\n",
        "    <li>PyTorch.</li>\n",
        "</ol>"
      ]
    },
    {
      "cell_type": "markdown",
      "id": "22f68c77-7e82-427a-8e8d-12c0a609989a",
      "metadata": {
        "id": "22f68c77-7e82-427a-8e8d-12c0a609989a"
      },
      "source": [
        "<strong>Exercise 6 - Create a markdown cell with a table of Data Science tools. (3 pts)</strong>"
      ]
    },
    {
      "cell_type": "markdown",
      "id": "34f750eb-46e1-46e8-b8a1-45bf703d5cdb",
      "metadata": {
        "id": "34f750eb-46e1-46e8-b8a1-45bf703d5cdb"
      },
      "source": [
        "Tools For Data Science:\n",
        "\n",
        "<table style=\"width:100%\">\n",
        "  <tr>\n",
        "    <th>Data Science Tools</th>\n",
        "    <th></th>\n",
        "    <th></th>\n",
        "  </tr>\n",
        "  <tr>\n",
        "    <td>Apache Spark</td>\n",
        "    <td></td>\n",
        "    <td></td>\n",
        "  </tr>\n",
        "  <tr>\n",
        "    <td>Watson Studio</td>\n",
        "    <td></td>\n",
        "    <td></td>\n",
        "  </tr>\n",
        "  <tr>\n",
        "    <td>Jupyter Notebook</td>\n",
        "    <td></td>\n",
        "    <td></td>\n",
        "  </tr>\n",
        "   <tr>\n",
        "    <td>Git and Github</td>\n",
        "    <td></td>\n",
        "    <td></td>\n",
        "  </tr>\n",
        "</table>"
      ]
    },
    {
      "cell_type": "markdown",
      "id": "0ff5d698-28c6-4af7-9fbf-3c8aeac5c162",
      "metadata": {
        "id": "0ff5d698-28c6-4af7-9fbf-3c8aeac5c162"
      },
      "source": [
        "<strong>Exercise 7 - Create a markdown cell introducing arithmetic expression examples. (1 pt)</strong>"
      ]
    },
    {
      "cell_type": "code",
      "execution_count": 2,
      "id": "1b0019a7-0338-4d65-863d-3a35f0ca72ff",
      "metadata": {
        "colab": {
          "base_uri": "https://localhost:8080/"
        },
        "id": "1b0019a7-0338-4d65-863d-3a35f0ca72ff",
        "outputId": "911dc56a-af3c-4b5f-c45a-26024af68e1d"
      },
      "outputs": [
        {
          "output_type": "stream",
          "name": "stdout",
          "text": [
            "15\n"
          ]
        }
      ],
      "source": [
        "# Arithmetic operations\n",
        "Aritmatik = (12+3)*1\n",
        "print(Aritmatik)\n"
      ]
    },
    {
      "cell_type": "markdown",
      "id": "631c4d61-6e2b-45ac-a6a7-e12c80a37434",
      "metadata": {
        "id": "631c4d61-6e2b-45ac-a6a7-e12c80a37434"
      },
      "source": [
        "<strong>Exercise 8 - Create a code cell to multiply and add numbers.(2 pts)</strong>"
      ]
    },
    {
      "cell_type": "code",
      "execution_count": 3,
      "id": "ae03f72b-2c05-4884-ae94-adc07167487d",
      "metadata": {
        "colab": {
          "base_uri": "https://localhost:8080/"
        },
        "id": "ae03f72b-2c05-4884-ae94-adc07167487d",
        "outputId": "7920a182-02a5-4bc3-9b66-6a8f8ef1fe79"
      },
      "outputs": [
        {
          "output_type": "execute_result",
          "data": {
            "text/plain": [
              "111"
            ]
          },
          "metadata": {},
          "execution_count": 3
        }
      ],
      "source": [
        "(10*11)+1\n",
        "# Result: 17"
      ]
    },
    {
      "cell_type": "markdown",
      "id": "0d55da1f-c304-40e5-84ce-14243b70e2c0",
      "metadata": {
        "id": "0d55da1f-c304-40e5-84ce-14243b70e2c0"
      },
      "source": [
        "<strong>Exercise 9 - Create a code cell to convert minutes to hours. (2 pts)</strong>"
      ]
    },
    {
      "cell_type": "code",
      "execution_count": 7,
      "id": "383731de-c25b-4b4f-a1ce-44f26b6ae2ab",
      "metadata": {
        "colab": {
          "base_uri": "https://localhost:8080/"
        },
        "id": "383731de-c25b-4b4f-a1ce-44f26b6ae2ab",
        "outputId": "d73325bd-15c4-48c6-e3e8-8ee0c10efde4"
      },
      "outputs": [
        {
          "output_type": "stream",
          "name": "stdout",
          "text": [
            "2.5 hours \n"
          ]
        }
      ],
      "source": [
        "mins = 150\n",
        "hours = mins/60\n",
        "\n",
        "print(str(hours) + \" hours \")\n",
        "\n",
        "# Result: 3.3333333333333335 hours"
      ]
    },
    {
      "cell_type": "markdown",
      "source": [],
      "metadata": {
        "id": "3Jq1fnTPOgrq"
      },
      "id": "3Jq1fnTPOgrq"
    },
    {
      "cell_type": "markdown",
      "id": "8df63065-35dc-4418-a0dc-51c8589c0ce6",
      "metadata": {
        "id": "8df63065-35dc-4418-a0dc-51c8589c0ce6"
      },
      "source": [
        "<strong>Exercise 10 -Insert a markdown cell to list Objectives.</strong>"
      ]
    },
    {
      "cell_type": "markdown",
      "source": [
        "<strong>This notebook have objective list:</strong>\n",
        "<ul>\n",
        "    <li>Populer Languanges for data science use.</li>\n",
        "    <li>Populer library for data science.</li>\n",
        "    <li>List tools for data science.</li>\n",
        "</ul>"
      ],
      "metadata": {
        "id": "Kr2CUR-9OSwQ"
      },
      "id": "Kr2CUR-9OSwQ"
    },
    {
      "cell_type": "markdown",
      "id": "2fe637ac-7c3c-4053-9a9f-7cadbb99d5b6",
      "metadata": {
        "id": "2fe637ac-7c3c-4053-9a9f-7cadbb99d5b6"
      },
      "source": [
        "<strong>Exercise 11 - Create a markdown cell to indicate the Author’s name.</strong>"
      ]
    },
    {
      "cell_type": "markdown",
      "id": "ee566760-e4a1-4439-baf6-5e54e551929f",
      "metadata": {
        "id": "ee566760-e4a1-4439-baf6-5e54e551929f"
      },
      "source": [
        "<h2>Author:</h2> Muhamad Ardiansyah Putra Wibowo"
      ]
    }
  ],
  "metadata": {
    "kernelspec": {
      "display_name": "Python",
      "language": "python",
      "name": "conda-env-python-py"
    },
    "language_info": {
      "codemirror_mode": {
        "name": "ipython",
        "version": 3
      },
      "file_extension": ".py",
      "mimetype": "text/x-python",
      "name": "python",
      "nbconvert_exporter": "python",
      "pygments_lexer": "ipython3",
      "version": "3.7.12"
    },
    "colab": {
      "provenance": []
    }
  },
  "nbformat": 4,
  "nbformat_minor": 5
}